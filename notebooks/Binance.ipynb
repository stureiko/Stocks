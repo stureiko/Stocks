{
 "cells": [
  {
   "cell_type": "code",
   "execution_count": 1,
   "id": "initial_id",
   "metadata": {
    "collapsed": true,
    "ExecuteTime": {
     "end_time": "2024-02-18T16:22:09.855894Z",
     "start_time": "2024-02-18T16:22:09.440913Z"
    }
   },
   "outputs": [],
   "source": [
    "import datetime as dt\n",
    "import json\n",
    "import requests\n",
    "import pandas as pd\n",
    "from dateutil.relativedelta import relativedelta"
   ]
  },
  {
   "cell_type": "markdown",
   "source": [
    "# Request to Binance"
   ],
   "metadata": {
    "collapsed": false
   },
   "id": "71bd3439276a9aba"
  },
  {
   "cell_type": "code",
   "outputs": [],
   "source": [
    "def get_binance_data(symbol='ETHUSDT', interval='1h', start_date:str=None):\n",
    "    # Define the start and end times for the data\n",
    "    if start_date:\n",
    "        start_time = dt.datetime.strptime(start_date, '%Y-%m-%d')\n",
    "        end_time = start_time + relativedelta(months=1)\n",
    "    else:\n",
    "        end_time = dt.datetime.now()\n",
    "        start_time = end_time + relativedelta(months=-1)\n",
    "    \n",
    "    \n",
    "    # Convert the times to Unix timestamps in milliseconds\n",
    "    start_timestamp = int(start_time.timestamp() * 1000)\n",
    "    end_timestamp = int(end_time.timestamp() * 1000)\n",
    "    \n",
    "    # Define the Binance API endpoint for K-line data\n",
    "    endpoint = 'https://api.binance.com/api/v3/klines'\n",
    "    \n",
    "    # Define the parameters for the API request\n",
    "    symbol = 'ETHUSDT'\n",
    "    interval = '1h'\n",
    "    limit=10000\n",
    "    params = {'symbol': symbol, 'interval': interval, 'startTime': start_timestamp, 'endTime': end_timestamp, 'limit': limit}\n",
    "    \n",
    "    # Send the API request and store the response data in a list\n",
    "    data = []\n",
    "    \n",
    "    response = requests.get(endpoint, params=params)\n",
    "    klines = json.loads(response.text)\n",
    "    data = pd.DataFrame(klines)\n",
    "    data.columns = ['open_time',\n",
    "                  'open', 'high', 'low', 'close', 'volume',\n",
    "                  'close_time', 'qav', 'num_trades',\n",
    "                  'taker_base_vol', 'taker_quote_vol', 'ignore']\n",
    "    data.index = [dt.datetime.fromtimestamp(x / 1000.0) for x in data.open_time]\n",
    "    data['open_time'] = [dt.datetime.fromtimestamp(x / 1000.) for x in data.open_time]\n",
    "    data['close_time'] = [dt.datetime.fromtimestamp(x / 1000.) for x in data.close_time]\n",
    "    data.drop(data.tail(1).index, inplace=True)\n",
    "    return data"
   ],
   "metadata": {
    "collapsed": false,
    "ExecuteTime": {
     "end_time": "2024-02-18T16:22:09.861639Z",
     "start_time": "2024-02-18T16:22:09.859295Z"
    }
   },
   "id": "4857eeecb3184429",
   "execution_count": 2
  },
  {
   "cell_type": "code",
   "outputs": [],
   "source": [
    "df = get_binance_data(symbol='BTCUSDT', start_date='2022-01-01')"
   ],
   "metadata": {
    "collapsed": false,
    "ExecuteTime": {
     "end_time": "2024-02-18T16:22:11.329394Z",
     "start_time": "2024-02-18T16:22:09.862099Z"
    }
   },
   "id": "9bb971e8fefc0047",
   "execution_count": 3
  },
  {
   "cell_type": "code",
   "outputs": [
    {
     "data": {
      "text/plain": "                              open_time           open           high  \\\n2022-01-01 00:00:00 2022-01-01 00:00:00  3645.04000000  3701.85000000   \n2022-01-01 01:00:00 2022-01-01 01:00:00  3688.12000000  3712.50000000   \n2022-01-01 02:00:00 2022-01-01 02:00:00  3681.80000000  3697.90000000   \n2022-01-01 03:00:00 2022-01-01 03:00:00  3676.22000000  3730.00000000   \n2022-01-01 04:00:00 2022-01-01 04:00:00  3723.04000000  3748.45000000   \n\n                               low          close          volume  \\\n2022-01-01 00:00:00  3633.84000000  3688.41000000  13070.92930000   \n2022-01-01 01:00:00  3673.55000000  3681.80000000   8131.40900000   \n2022-01-01 02:00:00  3672.22000000  3676.23000000   6004.29100000   \n2022-01-01 03:00:00  3676.22000000  3723.04000000   9023.37400000   \n2022-01-01 04:00:00  3714.10000000  3724.89000000   8997.75690000   \n\n                                 close_time                qav  num_trades  \\\n2022-01-01 00:00:00 2022-01-01 00:59:59.999  47926729.24076700       32205   \n2022-01-01 01:00:00 2022-01-01 01:59:59.999  30031978.97241500       21380   \n2022-01-01 02:00:00 2022-01-01 02:59:59.999  22146433.61526800       13214   \n2022-01-01 03:00:00 2022-01-01 03:59:59.999  33430053.33568300       21702   \n2022-01-01 04:00:00 2022-01-01 04:59:59.999  33572623.19046100       21666   \n\n                    taker_base_vol    taker_quote_vol ignore  \n2022-01-01 00:00:00  6910.66420000  25347125.96465700      0  \n2022-01-01 01:00:00  3829.36380000  14142151.65624900      0  \n2022-01-01 02:00:00  3367.86590000  12423892.88273900      0  \n2022-01-01 03:00:00  4552.43630000  16864789.87679000      0  \n2022-01-01 04:00:00  4156.57500000  15508157.02443100      0  ",
      "text/html": "<div>\n<style scoped>\n    .dataframe tbody tr th:only-of-type {\n        vertical-align: middle;\n    }\n\n    .dataframe tbody tr th {\n        vertical-align: top;\n    }\n\n    .dataframe thead th {\n        text-align: right;\n    }\n</style>\n<table border=\"1\" class=\"dataframe\">\n  <thead>\n    <tr style=\"text-align: right;\">\n      <th></th>\n      <th>open_time</th>\n      <th>open</th>\n      <th>high</th>\n      <th>low</th>\n      <th>close</th>\n      <th>volume</th>\n      <th>close_time</th>\n      <th>qav</th>\n      <th>num_trades</th>\n      <th>taker_base_vol</th>\n      <th>taker_quote_vol</th>\n      <th>ignore</th>\n    </tr>\n  </thead>\n  <tbody>\n    <tr>\n      <th>2022-01-01 00:00:00</th>\n      <td>2022-01-01 00:00:00</td>\n      <td>3645.04000000</td>\n      <td>3701.85000000</td>\n      <td>3633.84000000</td>\n      <td>3688.41000000</td>\n      <td>13070.92930000</td>\n      <td>2022-01-01 00:59:59.999</td>\n      <td>47926729.24076700</td>\n      <td>32205</td>\n      <td>6910.66420000</td>\n      <td>25347125.96465700</td>\n      <td>0</td>\n    </tr>\n    <tr>\n      <th>2022-01-01 01:00:00</th>\n      <td>2022-01-01 01:00:00</td>\n      <td>3688.12000000</td>\n      <td>3712.50000000</td>\n      <td>3673.55000000</td>\n      <td>3681.80000000</td>\n      <td>8131.40900000</td>\n      <td>2022-01-01 01:59:59.999</td>\n      <td>30031978.97241500</td>\n      <td>21380</td>\n      <td>3829.36380000</td>\n      <td>14142151.65624900</td>\n      <td>0</td>\n    </tr>\n    <tr>\n      <th>2022-01-01 02:00:00</th>\n      <td>2022-01-01 02:00:00</td>\n      <td>3681.80000000</td>\n      <td>3697.90000000</td>\n      <td>3672.22000000</td>\n      <td>3676.23000000</td>\n      <td>6004.29100000</td>\n      <td>2022-01-01 02:59:59.999</td>\n      <td>22146433.61526800</td>\n      <td>13214</td>\n      <td>3367.86590000</td>\n      <td>12423892.88273900</td>\n      <td>0</td>\n    </tr>\n    <tr>\n      <th>2022-01-01 03:00:00</th>\n      <td>2022-01-01 03:00:00</td>\n      <td>3676.22000000</td>\n      <td>3730.00000000</td>\n      <td>3676.22000000</td>\n      <td>3723.04000000</td>\n      <td>9023.37400000</td>\n      <td>2022-01-01 03:59:59.999</td>\n      <td>33430053.33568300</td>\n      <td>21702</td>\n      <td>4552.43630000</td>\n      <td>16864789.87679000</td>\n      <td>0</td>\n    </tr>\n    <tr>\n      <th>2022-01-01 04:00:00</th>\n      <td>2022-01-01 04:00:00</td>\n      <td>3723.04000000</td>\n      <td>3748.45000000</td>\n      <td>3714.10000000</td>\n      <td>3724.89000000</td>\n      <td>8997.75690000</td>\n      <td>2022-01-01 04:59:59.999</td>\n      <td>33572623.19046100</td>\n      <td>21666</td>\n      <td>4156.57500000</td>\n      <td>15508157.02443100</td>\n      <td>0</td>\n    </tr>\n  </tbody>\n</table>\n</div>"
     },
     "execution_count": 4,
     "metadata": {},
     "output_type": "execute_result"
    }
   ],
   "source": [
    "df.head()"
   ],
   "metadata": {
    "collapsed": false,
    "ExecuteTime": {
     "end_time": "2024-02-18T16:22:11.344849Z",
     "start_time": "2024-02-18T16:22:11.332002Z"
    }
   },
   "id": "102f65f18649cdeb",
   "execution_count": 4
  },
  {
   "cell_type": "code",
   "outputs": [
    {
     "data": {
      "text/plain": "                              open_time           open           high  \\\n2022-01-31 19:00:00 2022-01-31 19:00:00  2620.66000000  2692.79000000   \n2022-01-31 20:00:00 2022-01-31 20:00:00  2684.78000000  2696.33000000   \n2022-01-31 21:00:00 2022-01-31 21:00:00  2686.90000000  2694.92000000   \n2022-01-31 22:00:00 2022-01-31 22:00:00  2679.17000000  2706.77000000   \n2022-01-31 23:00:00 2022-01-31 23:00:00  2672.50000000  2694.85000000   \n\n                               low          close          volume  \\\n2022-01-31 19:00:00  2613.35000000  2685.00000000  48694.37710000   \n2022-01-31 20:00:00  2669.28000000  2686.82000000  31359.79430000   \n2022-01-31 21:00:00  2673.04000000  2679.17000000  14535.96910000   \n2022-01-31 22:00:00  2661.53000000  2672.72000000  26051.81000000   \n2022-01-31 23:00:00  2662.51000000  2683.97000000  17418.77870000   \n\n                                 close_time                 qav  num_trades  \\\n2022-01-31 19:00:00 2022-01-31 19:59:59.999  129324027.54514900       79454   \n2022-01-31 20:00:00 2022-01-31 20:59:59.999   84113003.68690600       55708   \n2022-01-31 21:00:00 2022-01-31 21:59:59.999   39006146.26071700       36940   \n2022-01-31 22:00:00 2022-01-31 22:59:59.999   69974339.89455300       56117   \n2022-01-31 23:00:00 2022-01-31 23:59:59.999   46649444.70856500       34074   \n\n                     taker_base_vol    taker_quote_vol ignore  \n2022-01-31 19:00:00  27985.72340000  74347906.27620100      0  \n2022-01-31 20:00:00  16817.57580000  45106664.35935500      0  \n2022-01-31 21:00:00   6994.65190000  18771936.87023200      0  \n2022-01-31 22:00:00  14091.07800000  37878473.32616200      0  \n2022-01-31 23:00:00   8337.79300000  22327641.04808100      0  ",
      "text/html": "<div>\n<style scoped>\n    .dataframe tbody tr th:only-of-type {\n        vertical-align: middle;\n    }\n\n    .dataframe tbody tr th {\n        vertical-align: top;\n    }\n\n    .dataframe thead th {\n        text-align: right;\n    }\n</style>\n<table border=\"1\" class=\"dataframe\">\n  <thead>\n    <tr style=\"text-align: right;\">\n      <th></th>\n      <th>open_time</th>\n      <th>open</th>\n      <th>high</th>\n      <th>low</th>\n      <th>close</th>\n      <th>volume</th>\n      <th>close_time</th>\n      <th>qav</th>\n      <th>num_trades</th>\n      <th>taker_base_vol</th>\n      <th>taker_quote_vol</th>\n      <th>ignore</th>\n    </tr>\n  </thead>\n  <tbody>\n    <tr>\n      <th>2022-01-31 19:00:00</th>\n      <td>2022-01-31 19:00:00</td>\n      <td>2620.66000000</td>\n      <td>2692.79000000</td>\n      <td>2613.35000000</td>\n      <td>2685.00000000</td>\n      <td>48694.37710000</td>\n      <td>2022-01-31 19:59:59.999</td>\n      <td>129324027.54514900</td>\n      <td>79454</td>\n      <td>27985.72340000</td>\n      <td>74347906.27620100</td>\n      <td>0</td>\n    </tr>\n    <tr>\n      <th>2022-01-31 20:00:00</th>\n      <td>2022-01-31 20:00:00</td>\n      <td>2684.78000000</td>\n      <td>2696.33000000</td>\n      <td>2669.28000000</td>\n      <td>2686.82000000</td>\n      <td>31359.79430000</td>\n      <td>2022-01-31 20:59:59.999</td>\n      <td>84113003.68690600</td>\n      <td>55708</td>\n      <td>16817.57580000</td>\n      <td>45106664.35935500</td>\n      <td>0</td>\n    </tr>\n    <tr>\n      <th>2022-01-31 21:00:00</th>\n      <td>2022-01-31 21:00:00</td>\n      <td>2686.90000000</td>\n      <td>2694.92000000</td>\n      <td>2673.04000000</td>\n      <td>2679.17000000</td>\n      <td>14535.96910000</td>\n      <td>2022-01-31 21:59:59.999</td>\n      <td>39006146.26071700</td>\n      <td>36940</td>\n      <td>6994.65190000</td>\n      <td>18771936.87023200</td>\n      <td>0</td>\n    </tr>\n    <tr>\n      <th>2022-01-31 22:00:00</th>\n      <td>2022-01-31 22:00:00</td>\n      <td>2679.17000000</td>\n      <td>2706.77000000</td>\n      <td>2661.53000000</td>\n      <td>2672.72000000</td>\n      <td>26051.81000000</td>\n      <td>2022-01-31 22:59:59.999</td>\n      <td>69974339.89455300</td>\n      <td>56117</td>\n      <td>14091.07800000</td>\n      <td>37878473.32616200</td>\n      <td>0</td>\n    </tr>\n    <tr>\n      <th>2022-01-31 23:00:00</th>\n      <td>2022-01-31 23:00:00</td>\n      <td>2672.50000000</td>\n      <td>2694.85000000</td>\n      <td>2662.51000000</td>\n      <td>2683.97000000</td>\n      <td>17418.77870000</td>\n      <td>2022-01-31 23:59:59.999</td>\n      <td>46649444.70856500</td>\n      <td>34074</td>\n      <td>8337.79300000</td>\n      <td>22327641.04808100</td>\n      <td>0</td>\n    </tr>\n  </tbody>\n</table>\n</div>"
     },
     "execution_count": 5,
     "metadata": {},
     "output_type": "execute_result"
    }
   ],
   "source": [
    "df.tail()"
   ],
   "metadata": {
    "collapsed": false,
    "ExecuteTime": {
     "end_time": "2024-02-18T16:22:11.351337Z",
     "start_time": "2024-02-18T16:22:11.348272Z"
    }
   },
   "id": "eb7ad5873ee20776",
   "execution_count": 5
  },
  {
   "cell_type": "code",
   "outputs": [
    {
     "data": {
      "text/plain": "2024"
     },
     "execution_count": 6,
     "metadata": {},
     "output_type": "execute_result"
    }
   ],
   "source": [
    "start_date = (dt.datetime.today() - relativedelta(months=1)).__str__().split(' ')[0][:-2] + '01'\n",
    "int(start_date[:4])"
   ],
   "metadata": {
    "collapsed": false,
    "ExecuteTime": {
     "end_time": "2024-02-18T16:22:11.363421Z",
     "start_time": "2024-02-18T16:22:11.351920Z"
    }
   },
   "id": "5d9e4b1dfd0cfbf3",
   "execution_count": 6
  },
  {
   "cell_type": "code",
   "outputs": [
    {
     "data": {
      "text/plain": "'2024-01-01'"
     },
     "execution_count": 7,
     "metadata": {},
     "output_type": "execute_result"
    }
   ],
   "source": [
    "start_date"
   ],
   "metadata": {
    "collapsed": false,
    "ExecuteTime": {
     "end_time": "2024-02-18T16:22:11.363668Z",
     "start_time": "2024-02-18T16:22:11.355644Z"
    }
   },
   "id": "3a25dab1a1a7c7d4",
   "execution_count": 7
  },
  {
   "cell_type": "code",
   "outputs": [
    {
     "name": "stdout",
     "output_type": "stream",
     "text": [
      "file ../data/raw/btc-usdt/2024-01-01.csv wrote.\n",
      "file ../data/raw/btc-usdt/2023-12-01.csv wrote.\n",
      "file ../data/raw/btc-usdt/2023-11-01.csv wrote.\n",
      "file ../data/raw/btc-usdt/2023-10-01.csv wrote.\n",
      "file ../data/raw/btc-usdt/2023-09-01.csv wrote.\n",
      "file ../data/raw/btc-usdt/2023-08-01.csv wrote.\n",
      "file ../data/raw/btc-usdt/2023-07-01.csv wrote.\n",
      "file ../data/raw/btc-usdt/2023-06-01.csv wrote.\n",
      "file ../data/raw/btc-usdt/2023-05-01.csv wrote.\n",
      "file ../data/raw/btc-usdt/2023-04-01.csv wrote.\n",
      "file ../data/raw/btc-usdt/2023-03-01.csv wrote.\n",
      "file ../data/raw/btc-usdt/2023-02-01.csv wrote.\n",
      "file ../data/raw/btc-usdt/2023-01-01.csv wrote.\n",
      "file ../data/raw/btc-usdt/2022-12-01.csv wrote.\n",
      "file ../data/raw/btc-usdt/2022-11-01.csv wrote.\n",
      "file ../data/raw/btc-usdt/2022-10-01.csv wrote.\n",
      "file ../data/raw/btc-usdt/2022-09-01.csv wrote.\n",
      "file ../data/raw/btc-usdt/2022-08-01.csv wrote.\n",
      "file ../data/raw/btc-usdt/2022-07-01.csv wrote.\n",
      "file ../data/raw/btc-usdt/2022-06-01.csv wrote.\n",
      "file ../data/raw/btc-usdt/2022-05-01.csv wrote.\n",
      "file ../data/raw/btc-usdt/2022-04-01.csv wrote.\n",
      "file ../data/raw/btc-usdt/2022-03-01.csv wrote.\n",
      "file ../data/raw/btc-usdt/2022-02-01.csv wrote.\n",
      "file ../data/raw/btc-usdt/2022-01-01.csv wrote.\n",
      "file ../data/raw/btc-usdt/2021-12-01.csv wrote.\n",
      "file ../data/raw/btc-usdt/2021-11-01.csv wrote.\n",
      "file ../data/raw/btc-usdt/2021-10-01.csv wrote.\n",
      "file ../data/raw/btc-usdt/2021-09-01.csv wrote.\n",
      "file ../data/raw/btc-usdt/2021-08-01.csv wrote.\n",
      "file ../data/raw/btc-usdt/2021-07-01.csv wrote.\n",
      "file ../data/raw/btc-usdt/2021-06-01.csv wrote.\n",
      "file ../data/raw/btc-usdt/2021-05-01.csv wrote.\n",
      "file ../data/raw/btc-usdt/2021-04-01.csv wrote.\n",
      "file ../data/raw/btc-usdt/2021-03-01.csv wrote.\n",
      "file ../data/raw/btc-usdt/2021-02-01.csv wrote.\n",
      "file ../data/raw/btc-usdt/2021-01-01.csv wrote.\n",
      "file ../data/raw/btc-usdt/2020-12-01.csv wrote.\n",
      "file ../data/raw/btc-usdt/2020-11-01.csv wrote.\n",
      "file ../data/raw/btc-usdt/2020-10-01.csv wrote.\n",
      "file ../data/raw/btc-usdt/2020-09-01.csv wrote.\n",
      "file ../data/raw/btc-usdt/2020-08-01.csv wrote.\n",
      "file ../data/raw/btc-usdt/2020-07-01.csv wrote.\n",
      "file ../data/raw/btc-usdt/2020-06-01.csv wrote.\n",
      "file ../data/raw/btc-usdt/2020-05-01.csv wrote.\n",
      "file ../data/raw/btc-usdt/2020-04-01.csv wrote.\n",
      "file ../data/raw/btc-usdt/2020-03-01.csv wrote.\n",
      "file ../data/raw/btc-usdt/2020-02-01.csv wrote.\n",
      "file ../data/raw/btc-usdt/2020-01-01.csv wrote.\n",
      "file ../data/raw/btc-usdt/2019-12-01.csv wrote.\n",
      "file ../data/raw/btc-usdt/2019-11-01.csv wrote.\n",
      "file ../data/raw/btc-usdt/2019-10-01.csv wrote.\n",
      "file ../data/raw/btc-usdt/2019-09-01.csv wrote.\n",
      "file ../data/raw/btc-usdt/2019-08-01.csv wrote.\n",
      "file ../data/raw/btc-usdt/2019-07-01.csv wrote.\n",
      "file ../data/raw/btc-usdt/2019-06-01.csv wrote.\n",
      "file ../data/raw/btc-usdt/2019-05-01.csv wrote.\n",
      "file ../data/raw/btc-usdt/2019-04-01.csv wrote.\n",
      "file ../data/raw/btc-usdt/2019-03-01.csv wrote.\n",
      "file ../data/raw/btc-usdt/2019-02-01.csv wrote.\n",
      "file ../data/raw/btc-usdt/2019-01-01.csv wrote.\n",
      "file ../data/raw/btc-usdt/2018-12-01.csv wrote.\n",
      "file ../data/raw/btc-usdt/2018-11-01.csv wrote.\n",
      "file ../data/raw/btc-usdt/2018-10-01.csv wrote.\n",
      "file ../data/raw/btc-usdt/2018-09-01.csv wrote.\n",
      "file ../data/raw/btc-usdt/2018-08-01.csv wrote.\n",
      "file ../data/raw/btc-usdt/2018-07-01.csv wrote.\n",
      "file ../data/raw/btc-usdt/2018-06-01.csv wrote.\n",
      "file ../data/raw/btc-usdt/2018-05-01.csv wrote.\n",
      "file ../data/raw/btc-usdt/2018-04-01.csv wrote.\n",
      "file ../data/raw/btc-usdt/2018-03-01.csv wrote.\n",
      "file ../data/raw/btc-usdt/2018-02-01.csv wrote.\n",
      "file ../data/raw/btc-usdt/2018-01-01.csv wrote.\n"
     ]
    }
   ],
   "source": [
    "start_date = (dt.datetime.today() - relativedelta(months=1)).__str__().split(' ')[0][:-2] + '01'\n",
    "while int(start_date[:4]) > 2017:\n",
    "    df = get_binance_data(symbol='BTCUSDT', start_date=start_date)\n",
    "    file_name = '../data/raw/btc-usdt/' + start_date + '.csv'\n",
    "    df.to_csv(file_name)\n",
    "    print(f'file {file_name} wrote.')\n",
    "    start_date = dt.datetime.strptime(start_date, '%Y-%m-%d') + relativedelta(months=-1)\n",
    "    start_date = start_date.__str__().split(' ')[0][:-2] + '01'"
   ],
   "metadata": {
    "collapsed": false,
    "ExecuteTime": {
     "end_time": "2024-02-18T16:23:30.015287Z",
     "start_time": "2024-02-18T16:22:49.088094Z"
    }
   },
   "id": "b37a1bfef3ec4ff9",
   "execution_count": 9
  },
  {
   "cell_type": "code",
   "outputs": [],
   "source": [
    "start_date = dt.datetime.today().__str__().split(' ')[0][:-2] + '01'"
   ],
   "metadata": {
    "collapsed": false,
    "ExecuteTime": {
     "start_time": "2024-02-18T16:22:12.270798Z"
    }
   },
   "id": "69f8c19f9a3af965"
  }
 ],
 "metadata": {
  "kernelspec": {
   "display_name": "Python 3",
   "language": "python",
   "name": "python3"
  },
  "language_info": {
   "codemirror_mode": {
    "name": "ipython",
    "version": 2
   },
   "file_extension": ".py",
   "mimetype": "text/x-python",
   "name": "python",
   "nbconvert_exporter": "python",
   "pygments_lexer": "ipython2",
   "version": "2.7.6"
  }
 },
 "nbformat": 4,
 "nbformat_minor": 5
}
