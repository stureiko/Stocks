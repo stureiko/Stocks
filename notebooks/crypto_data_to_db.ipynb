{
 "cells": [
  {
   "cell_type": "code",
   "execution_count": 18,
   "id": "initial_id",
   "metadata": {
    "collapsed": true,
    "ExecuteTime": {
     "end_time": "2024-02-18T17:44:47.439981Z",
     "start_time": "2024-02-18T17:44:47.435339Z"
    }
   },
   "outputs": [],
   "source": [
    "import pandas as pd\n",
    "import yaml\n",
    "import mysql.connector\n",
    "import os"
   ]
  },
  {
   "cell_type": "code",
   "outputs": [],
   "source": [
    "config = yaml.load(open('../Keys/MySQL.key'), Loader=yaml.SafeLoader)[0]"
   ],
   "metadata": {
    "collapsed": false,
    "ExecuteTime": {
     "end_time": "2024-02-18T17:59:02.442452Z",
     "start_time": "2024-02-18T17:59:02.436351Z"
    }
   },
   "id": "9fad43723f952086",
   "execution_count": 36
  },
  {
   "cell_type": "code",
   "outputs": [],
   "source": [
    "main_path = '../data/raw/'\n",
    "\n",
    "        \n",
    "for symbol_name in ['eth-usdt', 'btc-usdt']:\n",
    "    for file_name in [f for f in os.listdir(main_path + symbol_name + '/') if os.path.isfile(main_path + symbol_name + '/' + f)]:\n",
    "        data_path = main_path + symbol_name + '/' + file_name\n",
    "        df = pd.read_csv(data_path, index_col=0)\n",
    "\n",
    "        df.drop(columns=['close_time','qav', 'num_trades', 'taker_base_vol', 'taker_quote_vol', 'ignore'], axis=1, inplace=True)\n",
    "        df = df.rename(columns={'open_time': 'date'})\n",
    "        \n",
    "        mydb = mysql.connector.connect(**config)\n",
    "        cursor = mydb.cursor()  \n",
    "        \n",
    "        sql_q = \"insert into stocks_data (\"\n",
    "        sql_q += 'symbol, '\n",
    "        for ind, name in enumerate(df.columns):\n",
    "            sql_q += str(name)\n",
    "            if ind != len(df.columns)-1:\n",
    "                sql_q += ', '\n",
    "                \n",
    "        sql_q += ') values (' + '%s, '*(len(df.columns)) + '%s)'\n",
    "        try:\n",
    "            for i in range(0, df.shape[0]):\n",
    "                val = [symbol_name]\n",
    "                val += tuple(df.iloc[i].values)\n",
    "                cursor.execute(sql_q, val)\n",
    "        \n",
    "        finally:    \n",
    "            mydb.commit()\n",
    "            cursor.close()\n",
    "            mydb.close()\n"
   ],
   "metadata": {
    "collapsed": false,
    "ExecuteTime": {
     "end_time": "2024-02-18T18:04:07.593079Z",
     "start_time": "2024-02-18T18:03:58.377459Z"
    }
   },
   "id": "d6bd240ee57b3521",
   "execution_count": 43
  },
  {
   "cell_type": "code",
   "outputs": [],
   "source": [],
   "metadata": {
    "collapsed": false
   },
   "id": "aeea80ac17ca350c"
  }
 ],
 "metadata": {
  "kernelspec": {
   "display_name": "Python 3",
   "language": "python",
   "name": "python3"
  },
  "language_info": {
   "codemirror_mode": {
    "name": "ipython",
    "version": 2
   },
   "file_extension": ".py",
   "mimetype": "text/x-python",
   "name": "python",
   "nbconvert_exporter": "python",
   "pygments_lexer": "ipython2",
   "version": "2.7.6"
  }
 },
 "nbformat": 4,
 "nbformat_minor": 5
}
